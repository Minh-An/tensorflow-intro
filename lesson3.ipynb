{
 "cells": [
  {
   "cell_type": "code",
   "execution_count": 1,
   "metadata": {},
   "outputs": [
    {
     "name": "stdout",
     "output_type": "stream",
     "text": [
      "WARNING:tensorflow:From C:\\Anaconda3\\lib\\site-packages\\tensorflow_core\\python\\compat\\v2_compat.py:88: disable_resource_variables (from tensorflow.python.ops.variable_scope) is deprecated and will be removed in a future version.\n",
      "Instructions for updating:\n",
      "non-resource variables are not supported in the long term\n"
     ]
    }
   ],
   "source": [
    "import numpy as np\n",
    "import matplotlib.pyplot as plt\n",
    "import tensorflow.compat.v1 as tf\n",
    "tf.disable_v2_behavior()\n",
    "import xlrd\n",
    "DATA_FILE = \"data/fire_theft.xls\""
   ]
  },
  {
   "cell_type": "code",
   "execution_count": 2,
   "metadata": {},
   "outputs": [
    {
     "data": {
      "text/plain": [
       "'2.1.0'"
      ]
     },
     "execution_count": 2,
     "metadata": {},
     "output_type": "execute_result"
    }
   ],
   "source": [
    "tf.__version__"
   ]
  },
  {
   "cell_type": "code",
   "execution_count": 3,
   "metadata": {},
   "outputs": [],
   "source": [
    "book = xlrd.open_workbook(DATA_FILE, encoding_override=\"utf-8\")\n",
    "sheet = book.sheet_by_index(0)\n",
    "data = np.asarray([sheet.row_values(i) for i in range(1,sheet.nrows)])\n",
    "n_samples = sheet.nrows-1"
   ]
  },
  {
   "cell_type": "code",
   "execution_count": 4,
   "metadata": {},
   "outputs": [],
   "source": [
    "X = tf.placeholder(tf.float32, name='X')\n",
    "Y = tf.placeholder(tf.float32, name='Y')"
   ]
  },
  {
   "cell_type": "code",
   "execution_count": 5,
   "metadata": {},
   "outputs": [],
   "source": [
    "w = tf.Variable(0.0, name='weights')\n",
    "b = tf.Variable(0.0, name='bias')"
   ]
  },
  {
   "cell_type": "code",
   "execution_count": 6,
   "metadata": {},
   "outputs": [],
   "source": [
    "Y_hat = X*w+b"
   ]
  },
  {
   "cell_type": "code",
   "execution_count": 7,
   "metadata": {},
   "outputs": [],
   "source": [
    "loss = tf.square(Y-Y_hat, name='loss')"
   ]
  },
  {
   "cell_type": "code",
   "execution_count": 8,
   "metadata": {},
   "outputs": [],
   "source": [
    "optimizer = tf.train.GradientDescentOptimizer(learning_rate=.001).minimize(loss)"
   ]
  },
  {
   "cell_type": "code",
   "execution_count": 9,
   "metadata": {},
   "outputs": [
    {
     "name": "stdout",
     "output_type": "stream",
     "text": [
      "Epoch 0: 2069.6319333978354\n",
      "Epoch 1: 2117.0123581953535\n",
      "Epoch 2: 2092.302723001866\n",
      "Epoch 3: 2068.5080461938464\n",
      "Epoch 4: 2045.591184088162\n",
      "Epoch 5: 2023.5146448101316\n",
      "Epoch 6: 2002.2447619835536\n",
      "Epoch 7: 1981.748338803649\n",
      "Epoch 8: 1961.9944411260742\n",
      "Epoch 9: 1942.9520116143283\n",
      "Epoch 10: 1924.5930823644712\n",
      "Epoch 11: 1906.8898800636332\n",
      "Epoch 12: 1889.8164505837929\n",
      "Epoch 13: 1873.347133841543\n",
      "Epoch 14: 1857.4588400604468\n",
      "Epoch 15: 1842.1278742424079\n",
      "Epoch 16: 1827.332495119955\n",
      "Epoch 17: 1813.0520579712022\n",
      "Epoch 18: 1799.2660847636982\n",
      "Epoch 19: 1785.9562132299961\n",
      "Epoch 20: 1773.1024853109072\n",
      "Epoch 21: 1760.689129482884\n",
      "Epoch 22: 1748.6984157081515\n",
      "Epoch 23: 1737.1138680398553\n",
      "Epoch 24: 1725.920873066732\n",
      "Epoch 25: 1715.1046249579008\n",
      "Epoch 26: 1704.6500954309377\n",
      "Epoch 27: 1694.5447134910141\n",
      "Epoch 28: 1684.7746311347667\n",
      "Epoch 29: 1675.328450968245\n",
      "Epoch 30: 1666.1935385839038\n",
      "Epoch 31: 1657.3584002084322\n",
      "Epoch 32: 1648.8122658529207\n",
      "Epoch 33: 1640.5440742547091\n",
      "Epoch 34: 1632.5446836102221\n",
      "Epoch 35: 1624.8043315147183\n",
      "Epoch 36: 1617.3126799958602\n",
      "Epoch 37: 1610.0622532456405\n",
      "Epoch 38: 1603.0433557207386\n",
      "Epoch 39: 1596.2479176106197\n",
      "Epoch 40: 1589.668056331575\n",
      "Epoch 41: 1583.2965242617897\n",
      "Epoch 42: 1577.126371285745\n",
      "Epoch 43: 1571.1501190634\n",
      "Epoch 44: 1565.360979151513\n",
      "Epoch 45: 1559.7523780798629\n",
      "Epoch 46: 1554.3184364555138\n",
      "Epoch 47: 1549.0529469620615\n",
      "Epoch 48: 1543.950059985476\n",
      "Epoch 49: 1539.0050282141283\n",
      "Epoch 50: 1534.211797797609\n",
      "Epoch 51: 1529.56534988646\n",
      "Epoch 52: 1525.0607591186251\n",
      "Epoch 53: 1520.6934648507852\n",
      "Epoch 54: 1516.4585935090713\n",
      "Epoch 55: 1512.3524023861364\n",
      "Epoch 56: 1508.3695780125756\n",
      "Epoch 57: 1504.5066588066873\n",
      "Epoch 58: 1500.7606269073274\n",
      "Epoch 59: 1497.126336559476\n",
      "Epoch 60: 1493.600210891061\n",
      "Epoch 61: 1490.1794991287668\n",
      "Epoch 62: 1486.8605145300749\n",
      "Epoch 63: 1483.639419928193\n",
      "Epoch 64: 1480.5144186365596\n",
      "Epoch 65: 1477.4811065652452\n",
      "Epoch 66: 1474.5376660533782\n",
      "Epoch 67: 1471.6799176652871\n",
      "Epoch 68: 1468.9063155567717\n",
      "Epoch 69: 1466.2136880280007\n",
      "Epoch 70: 1463.5996563179153\n",
      "Epoch 71: 1461.0614086978492\n",
      "Epoch 72: 1458.597208841216\n",
      "Epoch 73: 1456.2043069711044\n",
      "Epoch 74: 1453.8807724802089\n",
      "Epoch 75: 1451.6242183893032\n",
      "Epoch 76: 1449.432753210976\n",
      "Epoch 77: 1447.3042320180018\n",
      "Epoch 78: 1445.237068621615\n",
      "Epoch 79: 1443.228872676177\n",
      "Epoch 80: 1441.2782130186733\n",
      "Epoch 81: 1439.3831422174615\n",
      "Epoch 82: 1437.542224922173\n",
      "Epoch 83: 1435.7540219968096\n",
      "Epoch 84: 1434.0160684508405\n",
      "Epoch 85: 1432.3276573866606\n",
      "Epoch 86: 1430.687153330871\n",
      "Epoch 87: 1429.093016880254\n",
      "Epoch 88: 1427.543719962062\n",
      "Epoch 89: 1426.038033108981\n",
      "Epoch 90: 1424.5748210840281\n",
      "Epoch 91: 1423.1531702368743\n",
      "Epoch 92: 1421.771026852585\n",
      "Epoch 93: 1420.4274983895677\n",
      "Epoch 94: 1419.121967994741\n",
      "Epoch 95: 1417.85251878131\n",
      "Epoch 96: 1416.618930517208\n",
      "Epoch 97: 1415.4196022436731\n",
      "Epoch 98: 1414.2534379121803\n",
      "Epoch 99: 1413.1202843011845\n"
     ]
    }
   ],
   "source": [
    "with tf.Session() as sess:\n",
    "    sess.run(tf.global_variables_initializer())\n",
    "    writer = tf.summary.FileWriter('./graphs/03/linear_reg', sess.graph)\n",
    "    \n",
    "    #train model\n",
    "    for i in range(100):\n",
    "        total_loss = 0\n",
    "        for x,y in data:\n",
    "            _, l = sess.run([optimizer, loss], feed_dict={X:x, Y:y})\n",
    "            total_loss += l\n",
    "        print('Epoch {0}: {1}'.format(i, total_loss/n_samples))\n",
    "        \n",
    "    writer.close()\n",
    "    \n",
    "    w1, b1 = sess.run([w,b])\n"
   ]
  },
  {
   "cell_type": "code",
   "execution_count": 10,
   "metadata": {},
   "outputs": [
    {
     "data": {
      "image/png": "[encoded data removed]",
      "text/plain": [
       "<Figure size 432x288 with 1 Axes>"
      ]
     },
     "metadata": {
      "needs_background": "light"
     },
     "output_type": "display_data"
    }
   ],
   "source": [
    "X, Y = data.T[0], data.T[1]\n",
    "plt.plot(X,Y, 'bo')\n",
    "plt.plot(X, w1*X+b1, 'r')\n",
    "plt.show()"
   ]
  },
  {
   "cell_type": "code",
   "execution_count": null,
   "metadata": {},
   "outputs": [],
   "source": []
  }
 ],
 "metadata": {
  "kernelspec": {
   "display_name": "Python 3",
   "language": "python",
   "name": "python3"
  },
  "language_info": {
   "codemirror_mode": {
    "name": "ipython",
    "version": 3
   },
   "file_extension": ".py",
   "mimetype": "text/x-python",
   "name": "python",
   "nbconvert_exporter": "python",
   "pygments_lexer": "ipython3",
   "version": "3.7.4"
  }
 },
 "nbformat": 4,
 "nbformat_minor": 2
}
